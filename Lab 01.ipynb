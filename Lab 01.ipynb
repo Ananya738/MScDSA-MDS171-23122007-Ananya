{
 "cells": [
  {
   "cell_type": "code",
   "execution_count": 1,
   "metadata": {},
   "outputs": [
    {
     "name": "stdout",
     "output_type": "stream",
     "text": [
      "NAME : ANANYA MANNA\n",
      "REG NO. : 23122007\n",
      "1MSC DATA SCIENCE\n",
      "EMAIL: ananya.manna@msds.christuniversity.in\n"
     ]
    }
   ],
   "source": [
    "print(\"NAME : ANANYA MANNA\")\n",
    "print(\"REG NO. : 23122007\")\n",
    "print(\"1MSC DATA SCIENCE\")\n",
    "print(\"EMAIL: ananya.manna@msds.christuniversity.in\")"
   ]
  },
  {
   "cell_type": "code",
   "execution_count": null,
   "metadata": {},
   "outputs": [],
   "source": []
  }
 ],
 "metadata": {
  "kernelspec": {
   "display_name": "Python 3",
   "language": "python",
   "name": "python3"
  },
  "language_info": {
   "codemirror_mode": {
    "name": "ipython",
    "version": 3
   },
   "file_extension": ".py",
   "mimetype": "text/x-python",
   "name": "python",
   "nbconvert_exporter": "python",
   "pygments_lexer": "ipython3",
   "version": "3.11.4"
  },
  "orig_nbformat": 4
 },
 "nbformat": 4,
 "nbformat_minor": 2
}
